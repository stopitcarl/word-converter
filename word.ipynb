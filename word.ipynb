{
 "cells": [
  {
   "cell_type": "code",
   "execution_count": 1,
   "source": [
    "import docx\r\n",
    "from docx.shared import RGBColor\r\n"
   ],
   "outputs": [],
   "metadata": {}
  },
  {
   "cell_type": "code",
   "execution_count": 16,
   "source": [
    "filename = \"MCMI-II.docx\"\r\n",
    "doc = docx.Document(filename)"
   ],
   "outputs": [],
   "metadata": {}
  },
  {
   "cell_type": "code",
   "execution_count": 17,
   "source": [
    "def change_text(run):\r\n",
    "        if len(run.text) == 1 and run.font.color.rgb and run.font.color.rgb != RGBColor(0, 0, 0):\r\n",
    "            run.bold = True\r\n",
    "            # run.underline = True\r\n",
    "            run.font.color.rgb = None\r\n",
    "\r\n",
    "for para in doc.paragraphs:\r\n",
    "    for run in para.runs:\r\n",
    "        # print(run.text)\r\n",
    "        change_text(run)\r\n",
    "            \r\n",
    "\r\n",
    "\r\n",
    "for table in doc.tables:\r\n",
    "    for row in table.rows:\r\n",
    "        for cell in row.cells:\r\n",
    "            for paragraph in cell.paragraphs:\r\n",
    "                # print(paragraph.text)\r\n",
    "                for run in paragraph.runs:\r\n",
    "                    # print(run.text)\r\n",
    "                    change_text(run)\r\n",
    "\r\n",
    "\r\n",
    "doc.save(\"MCMI-II_new.docx\")\r\n"
   ],
   "outputs": [],
   "metadata": {}
  },
  {
   "cell_type": "code",
   "execution_count": 5,
   "source": [
    "from bs4 import BeautifulSoup as bs\r\n"
   ],
   "outputs": [],
   "metadata": {}
  },
  {
   "cell_type": "code",
   "execution_count": 27,
   "source": [
    "from glob import glob\r\n",
    "import re\r\n",
    "import os\r\n",
    "import pathlib\r\n",
    "import win32com.client as win32\r\n",
    "from win32com.client import constants\r\n",
    "\r\n"
   ],
   "outputs": [],
   "metadata": {}
  },
  {
   "cell_type": "code",
   "execution_count": 35,
   "source": [
    "# Create list of paths to .doc files\r\n",
    "paths = glob('*.doc', recursive=True)\r\n",
    "\r\n",
    "def save_as_docx(path):\r\n",
    "    # Opening MS Word\r\n",
    "    word = win32.gencache.EnsureDispatch('Word.Application')\r\n",
    "    doc = word.Documents.Open(path)\r\n",
    "    doc.Activate ()\r\n",
    "\r\n",
    "    # Rename path with .docx\r\n",
    "    print(\"here\")\r\n",
    "    new_file_abs = path\r\n",
    "    new_file_abs = re.sub(r'\\.\\w+$', '-automatic.docx', new_file_abs)\r\n",
    "    print(new_file_abs)\r\n",
    "\r\n",
    "    # Save and Close\r\n",
    "    word.ActiveDocument.SaveAs(\r\n",
    "        new_file_abs, FileFormat=constants.wdFormatXMLDocument\r\n",
    "    )\r\n",
    "    doc.Close(False)\r\n",
    "\r\n",
    "for path in paths:        \r\n",
    "    mydir = pathlib.Path(__name__).parent.resolve()\r\n",
    "    myfile = path\r\n",
    "    #print(mydir, myfile)    \r\n",
    "    path = str(pathlib.Path(mydir, myfile))\r\n",
    "    print(path)\r\n",
    "    save_as_docx(path)\r\n",
    "    \r\n",
    "    "
   ],
   "outputs": [
    {
     "output_type": "stream",
     "name": "stdout",
     "text": [
      "C:\\Users\\joaof\\OneDrive - Universidade de Lisboa\\code\\word-converter\\BSI.doc\n",
      "here\n",
      "C:\\Users\\joaof\\OneDrive - Universidade de Lisboa\\code\\word-converter\\BSI-auto.docx\n",
      "C:\\Users\\joaof\\OneDrive - Universidade de Lisboa\\code\\word-converter\\MCMI-II.doc\n",
      "here\n",
      "C:\\Users\\joaof\\OneDrive - Universidade de Lisboa\\code\\word-converter\\MCMI-II-auto.docx\n"
     ]
    }
   ],
   "metadata": {}
  },
  {
   "cell_type": "code",
   "execution_count": null,
   "source": [],
   "outputs": [],
   "metadata": {}
  }
 ],
 "metadata": {
  "orig_nbformat": 4,
  "language_info": {
   "name": "python",
   "version": "3.8.2",
   "mimetype": "text/x-python",
   "codemirror_mode": {
    "name": "ipython",
    "version": 3
   },
   "pygments_lexer": "ipython3",
   "nbconvert_exporter": "python",
   "file_extension": ".py"
  },
  "kernelspec": {
   "name": "python3",
   "display_name": "Python 3.8.2 64-bit ('venv': venv)"
  },
  "interpreter": {
   "hash": "1feab10fc3f8374e1df7b9c82d8e34d8c5dddfa31b5bc26316fc27622f99d3f2"
  }
 },
 "nbformat": 4,
 "nbformat_minor": 2
}